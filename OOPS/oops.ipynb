{
 "cells": [
  {
   "cell_type": "markdown",
   "id": "d8f74ffe",
   "metadata": {},
   "source": [
    "#### OOPS\n",
    "#### Classes and objects"
   ]
  },
  {
   "cell_type": "code",
   "execution_count": 15,
   "id": "959dfec3",
   "metadata": {},
   "outputs": [
    {
     "name": "stdout",
     "output_type": "stream",
     "text": [
      "Audi\n",
      "Audi is starting\n"
     ]
    }
   ],
   "source": [
    "### A class is a blue print of creating objects. Attributes, methodes\n",
    "\n",
    "class Car:\n",
    "    def __init__(self, name): ##Constructor\n",
    "        self.name = name\n",
    "        print(self.name)\n",
    "\n",
    "    def start(self):\n",
    "        print(f\"{self.name} is starting\")\n",
    "\n",
    "audi = Car(\"Audi\")\n",
    "audi.start()\n",
    "# bmw = Car()\n",
    "# print(audi)"
   ]
  },
  {
   "cell_type": "code",
   "execution_count": 23,
   "id": "9b9fdecf",
   "metadata": {},
   "outputs": [
    {
     "name": "stdout",
     "output_type": "stream",
     "text": [
      "your current balance is '10000'\n",
      "Your bank balance is '20000' after depost\n",
      "Insufficient balance, Your current balance is 20000\n",
      "After withdraw of 10000, new balance is 10000\n"
     ]
    }
   ],
   "source": [
    "### Modeling an bank account\n",
    "\n",
    "class BankAccount:\n",
    "    def __init__(self, owner, balance=0):\n",
    "        self.owner = owner\n",
    "        self.balance = balance\n",
    "\n",
    "    def deposit(self, amount):\n",
    "        self.balance += amount\n",
    "        print(f\"Your bank balance is '{self.balance}' after depost\")\n",
    "\n",
    "    def checkBalance(self):\n",
    "        print(f\"your current balance is '{self.balance}'\")\n",
    "\n",
    "    def withdraw(self, amount):\n",
    "        if(self.balance > amount):\n",
    "            self.balance -= amount\n",
    "            print(f\"After withdraw of {amount}, new balance is {self.balance}\")\n",
    "        else:\n",
    "            print(f\"Insufficient balance, Your current balance is {self.balance}\")\n",
    "\n",
    "account = BankAccount(\"Misbah\",10000)\n",
    "account.checkBalance()\n",
    "account.deposit(10000)\n",
    "account.withdraw(30000)\n",
    "account.withdraw(10000)    "
   ]
  },
  {
   "cell_type": "markdown",
   "id": "7cee39f3",
   "metadata": {},
   "source": [
    "#### Inheritance\n"
   ]
  },
  {
   "cell_type": "code",
   "execution_count": 26,
   "id": "ec4c016f",
   "metadata": {},
   "outputs": [
    {
     "name": "stdout",
     "output_type": "stream",
     "text": [
      "The person will drive the Petrol car\n"
     ]
    }
   ],
   "source": [
    "class Car:\n",
    "    def __init__(self, windows, doors, enginetype):\n",
    "        self.windows = windows\n",
    "        self.doors = doors\n",
    "        self.enginetype = enginetype\n",
    "\n",
    "    def drive(self):\n",
    "        print(f\"The person will drive the {self.enginetype} car\")\n",
    "\n",
    "car1 = Car(4, 5, \"Petrol\")\n",
    "car1.drive()\n"
   ]
  },
  {
   "cell_type": "code",
   "execution_count": 34,
   "id": "4f498801",
   "metadata": {},
   "outputs": [
    {
     "name": "stdout",
     "output_type": "stream",
     "text": [
      "True\n",
      "The person will drive the Electric car\n"
     ]
    }
   ],
   "source": [
    "##Single Inheritance\n",
    "class Tesla(Car): \n",
    "    def __init__(self, windows, doors, enginetype, is_selfdriving):\n",
    "        super().__init__(windows, doors, enginetype)\n",
    "        self.is_selfdriving = is_selfdriving\n",
    "\n",
    "    def selfdriving(self):\n",
    "        print(f\"Tesla supports self driving :  {self.is_selfdriving}\")\n",
    "\n",
    "tesla = Tesla(4, 5, \"Electric\",True)\n",
    "print(tesla.is_selfdriving)\n",
    "tesla.drive()\n"
   ]
  },
  {
   "cell_type": "code",
   "execution_count": 39,
   "id": "59b9aacd",
   "metadata": {},
   "outputs": [
    {
     "name": "stdout",
     "output_type": "stream",
     "text": [
      "pugg says woof\n"
     ]
    },
    {
     "data": {
      "text/plain": [
       "'me'"
      ]
     },
     "execution_count": 39,
     "metadata": {},
     "output_type": "execute_result"
    }
   ],
   "source": [
    "##Multiple Inheritance\n",
    "class Animal:\n",
    "    def __init__(self, name):\n",
    "        self.name = name\n",
    "    \n",
    "    def speak(self):\n",
    "        print(\"From sub class\")\n",
    "\n",
    "class Pet:\n",
    "    def __init__(self, owner):\n",
    "        self.owner = owner\n",
    "\n",
    "class Dog(Animal, Pet):\n",
    "    def __init__(self, name, owner):\n",
    "        Animal.__init__(self, name)\n",
    "        Pet.__init__(self, owner)\n",
    "\n",
    "    def speak(self): ##more priority\n",
    "        return f\"{self.name} says woof\"\n",
    "\n",
    "dog1 = Dog(\"pugg\", \"me\")\n",
    "print(dog1.speak())\n",
    "dog1.owner"
   ]
  },
  {
   "cell_type": "markdown",
   "id": "d101c511",
   "metadata": {},
   "source": [
    "#### Polymorphism\n",
    "Polymorphism is a core concept in object-oriented programming that allows objects of different classes to be treated through a common interface. It means \"many forms\", and it allows the same method or function to behave differently depending on the object that is calling it."
   ]
  },
  {
   "cell_type": "code",
   "execution_count": null,
   "id": "7a044978",
   "metadata": {},
   "outputs": [
    {
     "name": "stdout",
     "output_type": "stream",
     "text": [
      "Woof!\n",
      "Meow!\n"
     ]
    }
   ],
   "source": [
    "# Example 1: Polymorphism with Functions and Objects\n",
    "\n",
    "class Dog:\n",
    "    def speak(self):\n",
    "        return \"Woof!\"\n",
    "\n",
    "class Cat:\n",
    "    def speak(self):\n",
    "        return \"Meow!\"\n",
    "\n",
    "def animal_sound(animal):\n",
    "    print(animal.speak())\n",
    "\n",
    "# Using polymorphism\n",
    "dog = Dog()\n",
    "cat = Cat()\n",
    "\n",
    "animal_sound(dog)  # Output: Woof!\n",
    "animal_sound(cat)  # Output: Meow!"
   ]
  },
  {
   "cell_type": "code",
   "execution_count": 43,
   "id": "7b986683",
   "metadata": {},
   "outputs": [
    {
     "name": "stdout",
     "output_type": "stream",
     "text": [
      "Bark\n",
      "Purr\n",
      "Some sound\n"
     ]
    }
   ],
   "source": [
    "# Example 2: Polymorphism with Inheritance and Method Overriding\n",
    "\n",
    "class Animal:\n",
    "    def speak(self):\n",
    "        return \"Some sound\"\n",
    "\n",
    "class Dog(Animal):\n",
    "    def speak(self):\n",
    "        return \"Bark\"\n",
    "\n",
    "class Cat(Animal):\n",
    "    def speak(self):\n",
    "        return \"Purr\"\n",
    "\n",
    "animals = [Dog(), Cat(), Animal()]\n",
    "\n",
    "for animal in animals:\n",
    "    print(animal.speak())\n"
   ]
  },
  {
   "cell_type": "markdown",
   "id": "a13c11f1",
   "metadata": {},
   "source": [
    "#### Encapsulation\n",
    "Encapsulation is an object-oriented programming concept that restricts direct access to some of an object's components and bundles data and methods that operate on that data within one unit — the class.\n",
    "\n",
    "It is used to protect the internal state of an object and allows access only through public methods (getters/setters).\n",
    "\n",
    "Why Encapsulation?\n",
    "To hide internal details (data hiding)\n",
    "\n",
    "To control how the data is accessed or modified\n",
    "\n",
    "To improve security and maintainability"
   ]
  },
  {
   "cell_type": "code",
   "execution_count": 45,
   "id": "2317f3ff",
   "metadata": {},
   "outputs": [
    {
     "name": "stdout",
     "output_type": "stream",
     "text": [
      "Alice\n",
      "30\n",
      "35\n",
      "Age must be positive.\n"
     ]
    }
   ],
   "source": [
    "class Person:\n",
    "    def __init__(self, name, age):\n",
    "        self.name = name        # public attribute\n",
    "        self.__age = age        # private attribute (name mangled)\n",
    "\n",
    "    def get_age(self):\n",
    "        return self.__age       # getter method\n",
    "\n",
    "    def set_age(self, age):\n",
    "        if age > 0:\n",
    "            self.__age = age    # setter method with validation\n",
    "        else:\n",
    "            print(\"Age must be positive.\")\n",
    "\n",
    "# Creating an object\n",
    "p = Person(\"Alice\", 30)\n",
    "\n",
    "# Accessing public attribute\n",
    "print(p.name)  # Output: Alice\n",
    "\n",
    "# Accessing private attribute (direct access will fail)\n",
    "# print(p.__age)  # ❌ AttributeError\n",
    "\n",
    "# Correct way to access private attribute\n",
    "print(p.get_age())  # ✅ Output: 30\n",
    "\n",
    "# Changing private attribute\n",
    "p.set_age(35)\n",
    "print(p.get_age())  # ✅ Output: 35\n",
    "\n",
    "p.set_age(-5)  # ❌ Invalid update\n"
   ]
  },
  {
   "cell_type": "markdown",
   "id": "3c38c2ab",
   "metadata": {},
   "source": [
    "#### Abstraction \n",
    "Abstraction is an object-oriented programming concept that hides complex implementation details and shows only the essential features of an object.\n",
    "\n",
    "In Python, abstraction is typically achieved using:\n",
    "Abstract Base Classes (ABCs)\n",
    "The abc module (ABC and @abstractmethod)\n",
    "\n",
    "🎯 Why Abstraction?\n",
    "\n",
    "-To reduce complexity by hiding unnecessary details\n",
    "\n",
    "-To define a common interface for a group of subclasses\n",
    "\n",
    "-To ensure consistency across different implementations\n"
   ]
  },
  {
   "cell_type": "code",
   "execution_count": 51,
   "id": "32424d0e",
   "metadata": {},
   "outputs": [
    {
     "name": "stdout",
     "output_type": "stream",
     "text": [
      "Bark\n",
      "Meow\n"
     ]
    }
   ],
   "source": [
    "from abc import ABC, abstractmethod\n",
    "\n",
    "class Animal(ABC):  # Abstract class\n",
    "    @abstractmethod\n",
    "    def make_sound(self):\n",
    "        pass  # Abstract method with no implementation\n",
    "\n",
    "class Dog(Animal):\n",
    "    def make_sound(self):\n",
    "        return \"Bark\"\n",
    "\n",
    "class Cat(Animal):\n",
    "    def make_sound(self):\n",
    "        return \"Meow\"\n",
    "\n",
    "# You can't create an object of an abstract class:\n",
    "# animal = Animal()  # ❌ Error\n",
    "\n",
    "# Create instances of subclasses\n",
    "dog = Dog()\n",
    "cat = Cat()\n",
    "\n",
    "print(dog.make_sound())  # Output: Bark\n",
    "print(cat.make_sound())  # Output: Meow\n"
   ]
  }
 ],
 "metadata": {
  "kernelspec": {
   "display_name": "Python 3",
   "language": "python",
   "name": "python3"
  },
  "language_info": {
   "codemirror_mode": {
    "name": "ipython",
    "version": 3
   },
   "file_extension": ".py",
   "mimetype": "text/x-python",
   "name": "python",
   "nbconvert_exporter": "python",
   "pygments_lexer": "ipython3",
   "version": "3.12.0"
  }
 },
 "nbformat": 4,
 "nbformat_minor": 5
}

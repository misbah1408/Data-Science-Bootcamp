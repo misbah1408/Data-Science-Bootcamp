{
 "cells": [
  {
   "cell_type": "markdown",
   "id": "08064776",
   "metadata": {},
   "source": [
    "#### Numpy\n",
    "\n",
    "NumPy (short for Numerical Python) is a powerful open-source Python library used for numerical computing. It provides:\n",
    "\n",
    "Core Features:\n",
    "N-dimensional arrays (ndarray): Efficient, fast arrays for storing and manipulating large datasets.\n",
    "\n",
    "Mathematical operations: Vectorized operations (element-wise) on arrays, which are much faster than using Python loops.\n",
    "\n",
    "Broadcasting: Ability to perform arithmetic operations on arrays of different shapes.\n",
    "\n",
    "Linear algebra, statistics, and Fourier transforms: Built-in support for complex mathematical functions.\n",
    "\n",
    "Random number generation: Tools for creating random data for simulations and testing.\n",
    "\n",
    "Integration with C/C++ and Fortran: High performance and easy interoperability with lower-level code."
   ]
  },
  {
   "cell_type": "code",
   "execution_count": 2,
   "id": "8fadbb6a",
   "metadata": {},
   "outputs": [
    {
     "name": "stdout",
     "output_type": "stream",
     "text": [
      "[[1 2 3 4 5 6]\n",
      " [1 2 3 4 5 6]\n",
      " [1 2 3 4 5 6]\n",
      " [1 2 3 4 5 6]]\n",
      "(4, 6)\n"
     ]
    },
    {
     "data": {
      "text/plain": [
       "array([[0],\n",
       "       [2],\n",
       "       [4],\n",
       "       [6],\n",
       "       [8]])"
      ]
     },
     "execution_count": 2,
     "metadata": {},
     "output_type": "execute_result"
    }
   ],
   "source": [
    "import numpy as np\n",
    "\n",
    "arr = np.array([[1,2,3,4,5,6],\n",
    "                [1,2,3,4,5,6],\n",
    "                [1,2,3,4,5,6],\n",
    "                [1,2,3,4,5,6]])\n",
    "print(arr)\n",
    "# shape\n",
    "print(arr.shape)\n",
    "# arange\n",
    "np.arange(0,10,2).reshape(5,1)"
   ]
  },
  {
   "cell_type": "code",
   "execution_count": 2,
   "id": "a4c822f3",
   "metadata": {},
   "outputs": [
    {
     "data": {
      "text/plain": [
       "array([[1., 0., 0.],\n",
       "       [0., 1., 0.],\n",
       "       [0., 0., 1.]])"
      ]
     },
     "execution_count": 2,
     "metadata": {},
     "output_type": "execute_result"
    }
   ],
   "source": [
    "# identity matrix\n",
    "np.eye(3)"
   ]
  },
  {
   "cell_type": "code",
   "execution_count": 7,
   "id": "2cd73521",
   "metadata": {},
   "outputs": [
    {
     "name": "stdout",
     "output_type": "stream",
     "text": [
      "Array: \n",
      " [[1 2 3]\n",
      " [1 2 3]]\n",
      "Shape: (2, 3)\n",
      "Number of dimenstions: 2\n",
      "Size (number of elements) 6\n",
      "Data type: int64\n",
      "Item size: 8\n"
     ]
    }
   ],
   "source": [
    "arr = np.array([[1,2,3],[1,2,3]])\n",
    "\n",
    "print(\"Array: \\n\", arr)\n",
    "print(\"Shape:\", arr.shape)\n",
    "print(\"Number of dimenstions:\", arr.ndim)\n",
    "print(\"Size (number of elements)\", arr.size)\n",
    "print(\"Data type:\", arr.dtype)\n",
    "print(\"Item size:\", arr.itemsize)"
   ]
  },
  {
   "cell_type": "code",
   "execution_count": 10,
   "id": "ec44e227",
   "metadata": {},
   "outputs": [
    {
     "name": "stdout",
     "output_type": "stream",
     "text": [
      "Addition: [11 13 15 17 19]\n",
      "Substraction: [9 9 9 9 9]\n",
      "Multiplication: [10 22 36 52 70]\n",
      "Division: [10.    5.5   4.    3.25  2.8 ]\n",
      "Modulus: [0 1 0 1 4]\n"
     ]
    }
   ],
   "source": [
    "# numpy vectorized operations\n",
    "arr1 = np.array([10,11,12,13,14])\n",
    "arr2 = np.array([1,2,3,4,5])\n",
    "\n",
    "# Element wise add\n",
    "print(\"Addition:\", arr1 + arr2)\n",
    "\n",
    "# Element wise sub\n",
    "print(\"Substraction:\", arr1 - arr2)\n",
    "\n",
    "# Element wie multiplication\n",
    "print(\"Multiplication:\", arr1 * arr2)\n",
    "\n",
    "# Element wise division\n",
    "print(\"Division:\", arr1 / arr2)\n",
    "\n",
    "# Element wise modulus\n",
    "print(\"Modulus:\", arr1 % arr2)\n"
   ]
  },
  {
   "cell_type": "code",
   "execution_count": 27,
   "id": "84f79442",
   "metadata": {},
   "outputs": [
    {
     "name": "stdout",
     "output_type": "stream",
     "text": [
      "[2. 3. 4.]\n",
      "[5.45981500e+01 8.10308393e+03 8.88611052e+06]\n",
      "[-0.7568025   0.41211849 -0.28790332]\n",
      "[1.38629436 2.19722458 2.77258872]\n"
     ]
    }
   ],
   "source": [
    "# Universal funtions\n",
    "arr = np.array([4,9,16])\n",
    "# sqrt\n",
    "print(np.sqrt(arr))\n",
    "\n",
    "# exponential\n",
    "print(np.exp(arr))\n",
    "\n",
    "# Sine\n",
    "print(np.sin(arr))\n",
    "\n",
    "# log\n",
    "print(np.log(arr))"
   ]
  },
  {
   "cell_type": "code",
   "execution_count": 49,
   "id": "1ceb5bcc",
   "metadata": {},
   "outputs": [
    {
     "name": "stdout",
     "output_type": "stream",
     "text": [
      "[[ 1  2  3  4]\n",
      " [ 5  6  7  8]\n",
      " [ 9 10 11 12]]\n",
      "2\n",
      "[[ 6  7]\n",
      " [10 11]]\n"
     ]
    }
   ],
   "source": [
    "# Array slicing and indexing\n",
    "arr = np.array([[1,2,3,4],\n",
    "                [5,6,7,8],\n",
    "                [9,10,11,12]])\n",
    "print(arr)\n",
    "\n",
    "print(arr[0][1])\n",
    "print(arr[1:,1:3])"
   ]
  },
  {
   "cell_type": "code",
   "execution_count": 55,
   "id": "1f11cd56",
   "metadata": {},
   "outputs": [
    {
     "name": "stdout",
     "output_type": "stream",
     "text": [
      "Mean: 3.0\n",
      "Standard_dev: 1.4142135623730951\n",
      "Normalized data: [-1.41421356 -0.70710678  0.70710678  0.          1.41421356]\n",
      "Variance: 2.0\n"
     ]
    }
   ],
   "source": [
    "# statistical concepts -- Normalization\n",
    "\n",
    "data = np.array([1,2,4,3,5])\n",
    "\n",
    "mean = np.mean(data)\n",
    "standard_dev = np.std(data)\n",
    "print(\"Mean:\", mean)\n",
    "print(\"Standard_dev:\", standard_dev)\n",
    "# normalize the data \n",
    "normalized_data = (data - mean) / standard_dev\n",
    "print(\"Normalized data:\", normalized_data)\n",
    "\n",
    "# variance\n",
    "variance = np.var(data)\n",
    "print(\"Variance:\", variance)"
   ]
  },
  {
   "cell_type": "code",
   "execution_count": null,
   "id": "ec70d5f7",
   "metadata": {},
   "outputs": [],
   "source": []
  }
 ],
 "metadata": {
  "kernelspec": {
   "display_name": "Python 3",
   "language": "python",
   "name": "python3"
  },
  "language_info": {
   "codemirror_mode": {
    "name": "ipython",
    "version": 3
   },
   "file_extension": ".py",
   "mimetype": "text/x-python",
   "name": "python",
   "nbconvert_exporter": "python",
   "pygments_lexer": "ipython3",
   "version": "3.12.0"
  }
 },
 "nbformat": 4,
 "nbformat_minor": 5
}

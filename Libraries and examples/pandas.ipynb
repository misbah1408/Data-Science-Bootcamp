{
 "cells": [
  {
   "cell_type": "markdown",
   "id": "f431e91f",
   "metadata": {},
   "source": [
    "#### Pandas\n",
    "\n",
    "Pandas is a powerful, open-source Python library used for data manipulation, analysis, and cleaning. It provides two main data structures:\n",
    "\n",
    "| Structure   | Description                                        |\n",
    "| ----------- | -------------------------------------------------- |\n",
    "| `Series`    | 1D labeled array (like a column in Excel)          |\n",
    "| `DataFrame` | 2D labeled table (like a spreadsheet or SQL table) |\n",
    "\n",
    "🔧 Key Features\n",
    "Easy handling of missing data (NaN)\n",
    "\n",
    "Data alignment and reshaping\n",
    "\n",
    "Powerful group by functionality\n",
    "\n",
    "Time series functionality\n",
    "\n",
    "Support for reading/writing from CSV, Excel, SQL, JSON, etc.\n",
    "\n",
    "Data filtering, aggregation, and merging\n"
   ]
  },
  {
   "cell_type": "code",
   "execution_count": null,
   "id": "7730e636",
   "metadata": {},
   "outputs": [
    {
     "ename": "TypeError",
     "evalue": "Series.dropna() takes 1 positional argument but 2 were given",
     "output_type": "error",
     "traceback": [
      "\u001b[31m---------------------------------------------------------------------------\u001b[39m",
      "\u001b[31mTypeError\u001b[39m                                 Traceback (most recent call last)",
      "\u001b[36mCell\u001b[39m\u001b[36m \u001b[39m\u001b[32mIn[7]\u001b[39m\u001b[32m, line 4\u001b[39m\n\u001b[32m      1\u001b[39m \u001b[38;5;28;01mimport\u001b[39;00m\u001b[38;5;250m \u001b[39m\u001b[34;01mpandas\u001b[39;00m\u001b[38;5;250m \u001b[39m\u001b[38;5;28;01mas\u001b[39;00m\u001b[38;5;250m \u001b[39m\u001b[34;01mpd\u001b[39;00m\n\u001b[32m      3\u001b[39m data = [\u001b[32m1\u001b[39m,\u001b[32m2\u001b[39m,\u001b[32m3\u001b[39m,\u001b[32m4\u001b[39m,\u001b[32m5\u001b[39m]\n\u001b[32m----> \u001b[39m\u001b[32m4\u001b[39m series = \u001b[43mpd\u001b[49m\u001b[43m.\u001b[49m\u001b[43mSeries\u001b[49m\u001b[43m(\u001b[49m\u001b[43mdata\u001b[49m\u001b[43m)\u001b[49m\u001b[43m.\u001b[49m\u001b[43mdropna\u001b[49m\u001b[43m(\u001b[49m\u001b[32;43m1\u001b[39;49m\u001b[43m)\u001b[49m\n\u001b[32m      5\u001b[39m \u001b[38;5;28mprint\u001b[39m(series)\n",
      "\u001b[31mTypeError\u001b[39m: Series.dropna() takes 1 positional argument but 2 were given"
     ]
    }
   ],
   "source": [
    "import pandas as pd\n",
    "\n",
    "data = [1,2,3,4,5]\n",
    "series = pd.Series(data)\n",
    "print(series)"
   ]
  }
 ],
 "metadata": {
  "kernelspec": {
   "display_name": "Python 3",
   "language": "python",
   "name": "python3"
  },
  "language_info": {
   "codemirror_mode": {
    "name": "ipython",
    "version": 3
   },
   "file_extension": ".py",
   "mimetype": "text/x-python",
   "name": "python",
   "nbconvert_exporter": "python",
   "pygments_lexer": "ipython3",
   "version": "3.12.0"
  }
 },
 "nbformat": 4,
 "nbformat_minor": 5
}

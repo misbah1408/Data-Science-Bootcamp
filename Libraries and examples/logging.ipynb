{
 "cells": [
  {
   "cell_type": "markdown",
   "id": "4281dcc7",
   "metadata": {},
   "source": [
    "## Python Logging\n",
    "\n",
    "| Level Name | Numeric Value | Purpose                                                                                                  |\n",
    "| ---------- | ------------- | -------------------------------------------------------------------------------------------------------- |\n",
    "| `DEBUG`    | 10            | Detailed information, useful for diagnosing problems (typically used during development).                |\n",
    "| `INFO`     | 20            | General information about program execution (e.g., startup, shutdown, or status updates).                |\n",
    "| `WARNING`  | 30            | An indication that something unexpected happened, or could cause problems in the future.                 |\n",
    "| `ERROR`    | 40            | A more serious issue — the program has encountered an error and might not be able to perform a function. |\n",
    "| `CRITICAL` | 50            | A very serious error — the program may not be able to continue running.                                  |\n"
   ]
  },
  {
   "cell_type": "code",
   "execution_count": 1,
   "id": "f16ae737",
   "metadata": {},
   "outputs": [],
   "source": [
    "import logging\n",
    "\n",
    "# Configure logging with date and time\n",
    "logging.basicConfig(\n",
    "    filename='app.log',\n",
    "    filemode='w',\n",
    "    level=logging.DEBUG,\n",
    "    format='%(asctime)s - %(name)s - %(levelname)s - %(message)s',\n",
    "    datefmt='%Y-%m-%d %H:%M:%S',\n",
    "    force=True\n",
    ")\n",
    "\n",
    "# Log messages\n",
    "logging.debug(\"this is a debug message\")\n",
    "logging.info(\"this is an info message\")\n",
    "logging.warning(\"this is a warning message\")\n",
    "logging.error(\"this is an error message\")\n",
    "logging.critical(\"this is a critical message\")\n"
   ]
  },
  {
   "cell_type": "code",
   "execution_count": null,
   "id": "49851652",
   "metadata": {},
   "outputs": [],
   "source": []
  }
 ],
 "metadata": {
  "kernelspec": {
   "display_name": "Python 3",
   "language": "python",
   "name": "python3"
  },
  "language_info": {
   "codemirror_mode": {
    "name": "ipython",
    "version": 3
   },
   "file_extension": ".py",
   "mimetype": "text/x-python",
   "name": "python",
   "nbconvert_exporter": "python",
   "pygments_lexer": "ipython3",
   "version": "3.12.0"
  }
 },
 "nbformat": 4,
 "nbformat_minor": 5
}

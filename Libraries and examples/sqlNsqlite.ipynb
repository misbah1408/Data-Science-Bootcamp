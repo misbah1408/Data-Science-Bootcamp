{
 "cells": [
  {
   "cell_type": "markdown",
   "id": "73a9cd5f",
   "metadata": {},
   "source": [
    "### SQL and SQLite"
   ]
  },
  {
   "cell_type": "code",
   "execution_count": 10,
   "id": "761bc34f",
   "metadata": {},
   "outputs": [],
   "source": [
    "import sqlite3"
   ]
  },
  {
   "cell_type": "code",
   "execution_count": 11,
   "id": "f0dcc484",
   "metadata": {},
   "outputs": [
    {
     "data": {
      "text/plain": [
       "<sqlite3.Connection at 0x22481b3ff10>"
      ]
     },
     "execution_count": 11,
     "metadata": {},
     "output_type": "execute_result"
    }
   ],
   "source": [
    "# Connect to an SQLite database\n",
    "connection = sqlite3.connect('example.db')\n",
    "connection"
   ]
  },
  {
   "cell_type": "code",
   "execution_count": 12,
   "id": "7c1f32c5",
   "metadata": {},
   "outputs": [],
   "source": [
    "cursor = connection.cursor()"
   ]
  },
  {
   "cell_type": "code",
   "execution_count": 13,
   "id": "0d6de9cb",
   "metadata": {},
   "outputs": [],
   "source": [
    "# create table\n",
    "cursor.execute('''\n",
    "Create Table If Not Exists employees(\n",
    "            id Integer Primary key,\n",
    "            name Text Not Null,\n",
    "            age Integer,\n",
    "            department Text\n",
    "            )\n",
    "''')\n",
    "\n",
    "# commit the changes\n",
    "connection.commit()"
   ]
  },
  {
   "cell_type": "code",
   "execution_count": 14,
   "id": "c5dea23d",
   "metadata": {},
   "outputs": [
    {
     "data": {
      "text/plain": [
       "<sqlite3.Cursor at 0x22481f8e8c0>"
      ]
     },
     "execution_count": 14,
     "metadata": {},
     "output_type": "execute_result"
    }
   ],
   "source": [
    "cursor.execute('''\n",
    "Select * from employees\n",
    "''')"
   ]
  },
  {
   "cell_type": "code",
   "execution_count": 15,
   "id": "02cdf12b",
   "metadata": {},
   "outputs": [],
   "source": [
    "# Insert the data\n",
    "cursor.execute('''\n",
    "Insert Into employees\n",
    "        (id, name, age, department) \n",
    "        Values\n",
    "        (101, \"Misbah\", 21, \"IT\"),\n",
    "        (102, \"Krish\", 21, \"IT\"),\n",
    "        (103, \"Amir\", 21, \"Hr\"),\n",
    "        (104, \"Salman\", 21, \"IT\"),\n",
    "        (105, \"Sharukh\", 21, \"Hr\")\n",
    "''')\n",
    "connection.commit()"
   ]
  },
  {
   "cell_type": "code",
   "execution_count": 17,
   "id": "d05c68c3",
   "metadata": {},
   "outputs": [
    {
     "name": "stdout",
     "output_type": "stream",
     "text": [
      "(101, 'Misbah', 21, 'IT')\n",
      "(102, 'Krish', 21, 'IT')\n",
      "(103, 'Amir', 21, 'Hr')\n",
      "(104, 'Salman', 21, 'IT')\n",
      "(105, 'Sharukh', 21, 'Hr')\n"
     ]
    }
   ],
   "source": [
    "# retrive data\n",
    "cursor.execute('''\n",
    "Select * from employees\n",
    "''')\n",
    "\n",
    "rows = cursor.fetchall()\n",
    "\n",
    "for row in rows:\n",
    "    print(row)"
   ]
  },
  {
   "cell_type": "code",
   "execution_count": null,
   "id": "42a33b91",
   "metadata": {},
   "outputs": [],
   "source": [
    "# Update the table data\n",
    "cursor.execute('''\n",
    "Update employees\n",
    "    Set age = 55\n",
    "    Where name = 'Salman'\n",
    "''')\n",
    "\n",
    "connection.commit()"
   ]
  },
  {
   "cell_type": "code",
   "execution_count": null,
   "id": "51491f5b",
   "metadata": {},
   "outputs": [
    {
     "name": "stdout",
     "output_type": "stream",
     "text": [
      "(101, 'Misbah', 21, 'IT')\n",
      "(102, 'Krish', 21, 'IT')\n",
      "(103, 'Amir', 21, 'Hr')\n",
      "(104, 'Salman', 55, 'IT')\n",
      "(105, 'Sharukh', 21, 'Hr')\n"
     ]
    }
   ],
   "source": [
    "# retrive data\n",
    "cursor.execute('''\n",
    "Select * from employees\n",
    "''')\n",
    "\n",
    "rows = cursor.fetchall()\n",
    "\n",
    "for row in rows:\n",
    "    print(row)"
   ]
  },
  {
   "cell_type": "code",
   "execution_count": null,
   "id": "abd2b6b1",
   "metadata": {},
   "outputs": [],
   "source": [
    "# delete the data from the table\n",
    "cursor.execute('''\n",
    "Delete from employees\n",
    "    where name = 'Sharukh'\n",
    "''') \n",
    "\n",
    "connection.commit()"
   ]
  },
  {
   "cell_type": "code",
   "execution_count": 22,
   "id": "554f4ebd",
   "metadata": {},
   "outputs": [
    {
     "name": "stdout",
     "output_type": "stream",
     "text": [
      "(101, 'Misbah', 21, 'IT')\n",
      "(102, 'Krish', 21, 'IT')\n",
      "(103, 'Amir', 21, 'Hr')\n",
      "(104, 'Salman', 55, 'IT')\n"
     ]
    }
   ],
   "source": [
    "# retrive data\n",
    "cursor.execute('''\n",
    "Select * from employees\n",
    "''')\n",
    "\n",
    "rows = cursor.fetchall()\n",
    "\n",
    "for row in rows:\n",
    "    print(row)"
   ]
  },
  {
   "cell_type": "code",
   "execution_count": 26,
   "id": "3666a629",
   "metadata": {},
   "outputs": [],
   "source": [
    "# working with sales data\n",
    "connection = sqlite3.connect('sales_data.db')\n",
    "cursor = connection.cursor()\n",
    "\n",
    "cursor.execute('''\n",
    "CREATE TABLE IF NOT EXISTS sales(\n",
    "    id INTEGER PRIMARY KEY,\n",
    "    date TEXT NOT NULL,\n",
    "    product TEXT NOT NULL,\n",
    "    sales INTEGER,\n",
    "    region TEXT\n",
    ")\n",
    "''')\n",
    "\n",
    "connection.commit()"
   ]
  },
  {
   "cell_type": "code",
   "execution_count": 30,
   "id": "04dfa57a",
   "metadata": {},
   "outputs": [],
   "source": [
    "sales_data = [\n",
    "    ('2023-01-01', 'Product1', 100, 'North'),\n",
    "    ('2023-01-02', 'Product2', 200, 'South'),\n",
    "    ('2023-01-03', 'Product3', 300, 'East'),\n",
    "    ('2023-01-04', 'Product4', 130, 'West'),\n",
    "]\n",
    "# insert data\n",
    "cursor.executemany('''\n",
    "INSERT INTO sales(date, product, sales, region)\n",
    "            VALUES(?,?,?,?)\n",
    "''', sales_data)\n",
    "connection.commit()"
   ]
  },
  {
   "cell_type": "code",
   "execution_count": 31,
   "id": "c42071ff",
   "metadata": {},
   "outputs": [
    {
     "name": "stdout",
     "output_type": "stream",
     "text": [
      "(1, '2023-01-01', 'Product1', 100, 'North')\n",
      "(2, '2023-01-02', 'Product2', 200, 'South')\n",
      "(3, '2023-01-03', 'Product3', 300, 'East')\n",
      "(4, '2023-01-04', 'Product4', 130, 'West')\n"
     ]
    }
   ],
   "source": [
    "# Query data\n",
    "cursor.execute('''\n",
    "SELECT * FROM sales\n",
    "''')\n",
    "\n",
    "rows = cursor.fetchall()\n",
    "for row in rows:\n",
    "    print(row)"
   ]
  },
  {
   "cell_type": "code",
   "execution_count": 32,
   "id": "607f51e1",
   "metadata": {},
   "outputs": [],
   "source": [
    "# close connection\n",
    "connection.close()"
   ]
  }
 ],
 "metadata": {
  "kernelspec": {
   "display_name": "Python 3",
   "language": "python",
   "name": "python3"
  },
  "language_info": {
   "codemirror_mode": {
    "name": "ipython",
    "version": 3
   },
   "file_extension": ".py",
   "mimetype": "text/x-python",
   "name": "python",
   "nbconvert_exporter": "python",
   "pygments_lexer": "ipython3",
   "version": "3.12.0"
  }
 },
 "nbformat": 4,
 "nbformat_minor": 5
}

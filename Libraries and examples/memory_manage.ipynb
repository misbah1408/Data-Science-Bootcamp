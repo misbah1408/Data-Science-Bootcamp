{
 "cells": [
  {
   "cell_type": "markdown",
   "id": "40b6ea42",
   "metadata": {},
   "source": [
    "## Memory Management\n",
    "\n",
    "#### Best pactices"
   ]
  },
  {
   "cell_type": "code",
   "execution_count": 2,
   "id": "bc65cd2d",
   "metadata": {},
   "outputs": [
    {
     "name": "stdout",
     "output_type": "stream",
     "text": [
      "2\n"
     ]
    }
   ],
   "source": [
    "import sys\n",
    "\n",
    "a=[]\n",
    "print(sys.getrefcount(a))"
   ]
  },
  {
   "cell_type": "code",
   "execution_count": 5,
   "id": "c5b90d61",
   "metadata": {},
   "outputs": [
    {
     "name": "stdout",
     "output_type": "stream",
     "text": [
      "3\n"
     ]
    }
   ],
   "source": [
    "b=a\n",
    "print(sys.getrefcount(a))"
   ]
  },
  {
   "cell_type": "code",
   "execution_count": 4,
   "id": "f8f3dac2",
   "metadata": {},
   "outputs": [
    {
     "name": "stdout",
     "output_type": "stream",
     "text": [
      "2\n"
     ]
    }
   ],
   "source": [
    "del b\n",
    "print(sys.getrefcount(a))\n"
   ]
  },
  {
   "cell_type": "markdown",
   "id": "29a9754f",
   "metadata": {},
   "source": [
    "#### Garbage collector "
   ]
  },
  {
   "cell_type": "code",
   "execution_count": 6,
   "id": "5a16f5a1",
   "metadata": {},
   "outputs": [],
   "source": [
    "import gc\n",
    "# enable gc\n",
    "\n",
    "gc.enable()"
   ]
  },
  {
   "cell_type": "code",
   "execution_count": 7,
   "id": "8507ead7",
   "metadata": {},
   "outputs": [
    {
     "data": {
      "text/plain": [
       "93"
      ]
     },
     "execution_count": 7,
     "metadata": {},
     "output_type": "execute_result"
    }
   ],
   "source": [
    "gc.collect()"
   ]
  },
  {
   "cell_type": "code",
   "execution_count": 8,
   "id": "9e4bb9e8",
   "metadata": {},
   "outputs": [
    {
     "name": "stdout",
     "output_type": "stream",
     "text": [
      "[{'collections': 174, 'collected': 1758, 'uncollectable': 0}, {'collections': 15, 'collected': 96, 'uncollectable': 0}, {'collections': 2, 'collected': 93, 'uncollectable': 0}]\n"
     ]
    }
   ],
   "source": [
    "# Get garbage collection stats\n",
    "print(gc.get_stats())"
   ]
  },
  {
   "cell_type": "code",
   "execution_count": 9,
   "id": "2e175ea9",
   "metadata": {},
   "outputs": [
    {
     "name": "stdout",
     "output_type": "stream",
     "text": [
      "[]\n"
     ]
    }
   ],
   "source": [
    "print(gc.garbage)"
   ]
  },
  {
   "cell_type": "code",
   "execution_count": 11,
   "id": "aceb2212",
   "metadata": {},
   "outputs": [
    {
     "name": "stdout",
     "output_type": "stream",
     "text": [
      "Object obj1 created\n",
      "Object obj2 created\n",
      "Object obj1 deleted\n",
      "Object obj2 deleted\n",
      "Object obj1 deleted\n",
      "Object obj2 deleted\n"
     ]
    },
    {
     "data": {
      "text/plain": [
       "48"
      ]
     },
     "execution_count": 11,
     "metadata": {},
     "output_type": "execute_result"
    }
   ],
   "source": [
    "class MyObject:\n",
    "    def __init__(self, name):\n",
    "        self.name = name\n",
    "        print(f'Object {self.name} created')\n",
    "\n",
    "    def __del__(self):\n",
    "        print(f'Object {self.name} deleted')\n",
    "\n",
    "\n",
    "# circular reference X \n",
    "obj1 = MyObject(\"obj1\")\n",
    "obj2 = MyObject(\"obj2\")\n",
    "obj1.ref = obj2\n",
    "obj2.ref = obj1\n",
    "\n",
    "del obj1\n",
    "del obj2\n",
    "\n",
    "gc.collect()"
   ]
  },
  {
   "cell_type": "code",
   "execution_count": 12,
   "id": "33c5dbfb",
   "metadata": {},
   "outputs": [
    {
     "name": "stdout",
     "output_type": "stream",
     "text": [
      "0\n",
      "1\n",
      "2\n",
      "3\n",
      "4\n",
      "5\n",
      "6\n",
      "7\n",
      "8\n",
      "9\n",
      "10\n",
      "11\n"
     ]
    }
   ],
   "source": [
    "# Generator for memory efficiently\n",
    "\n",
    "def generate_numbers(n):\n",
    "    for i in range(n):\n",
    "        yield i\n",
    "\n",
    "# using the generator\n",
    "for num in generate_numbers(10000):\n",
    "    print(num)\n",
    "    if num > 10:\n",
    "        break"
   ]
  },
  {
   "cell_type": "code",
   "execution_count": 21,
   "id": "8e104b14",
   "metadata": {},
   "outputs": [],
   "source": [
    "# Profiling memory (tracemalloc)\n",
    "\n",
    "import tracemalloc\n",
    "\n",
    "def create_lst():\n",
    "    return [i for i in range(10000)]\n",
    "\n",
    "def main():\n",
    "    tracemalloc.start()\n",
    "\n",
    "    create_lst()\n",
    "\n",
    "    snapshot = tracemalloc.take_snapshot()\n",
    "    top_stats = snapshot.statistics('lineno')\n",
    "\n",
    "    print('[ Top 10 ]')\n",
    "    for stat in top_stats[:10]:\n",
    "        print(stat)"
   ]
  },
  {
   "cell_type": "code",
   "execution_count": 22,
   "id": "97e8b070",
   "metadata": {},
   "outputs": [
    {
     "name": "stdout",
     "output_type": "stream",
     "text": [
      "[ Top 10 ]\n",
      "d:\\data-science-bootcamp\\venv\\Lib\\site-packages\\IPython\\core\\interactiveshell.py:3054: size=15.7 KiB, count=4, average=4010 B\n",
      "d:\\data-science-bootcamp\\venv\\Lib\\site-packages\\traitlets\\traitlets.py:731: size=3964 B, count=65, average=61 B\n",
      "d:\\data-science-bootcamp\\venv\\Lib\\json\\decoder.py:353: size=3889 B, count=41, average=95 B\n",
      "d:\\data-science-bootcamp\\venv\\Lib\\site-packages\\traitlets\\traitlets.py:1543: size=3420 B, count=57, average=60 B\n",
      "d:\\data-science-bootcamp\\venv\\Lib\\site-packages\\IPython\\core\\compilerop.py:174: size=3196 B, count=42, average=76 B\n",
      "d:\\data-science-bootcamp\\venv\\Lib\\tracemalloc.py:193: size=2784 B, count=58, average=48 B\n",
      "d:\\data-science-bootcamp\\venv\\Lib\\tracemalloc.py:558: size=2600 B, count=54, average=48 B\n",
      "d:\\data-science-bootcamp\\venv\\Lib\\site-packages\\zmq\\sugar\\attrsettr.py:45: size=2585 B, count=55, average=47 B\n",
      "d:\\data-science-bootcamp\\venv\\Lib\\codeop.py:118: size=2199 B, count=26, average=85 B\n",
      "d:\\data-science-bootcamp\\venv\\Lib\\site-packages\\jupyter_client\\jsonutil.py:111: size=2000 B, count=40, average=50 B\n"
     ]
    }
   ],
   "source": [
    "main()"
   ]
  },
  {
   "cell_type": "code",
   "execution_count": null,
   "id": "b6326783",
   "metadata": {},
   "outputs": [],
   "source": []
  }
 ],
 "metadata": {
  "kernelspec": {
   "display_name": "Python 3",
   "language": "python",
   "name": "python3"
  },
  "language_info": {
   "codemirror_mode": {
    "name": "ipython",
    "version": 3
   },
   "file_extension": ".py",
   "mimetype": "text/x-python",
   "name": "python",
   "nbconvert_exporter": "python",
   "pygments_lexer": "ipython3",
   "version": "3.12.0"
  }
 },
 "nbformat": 4,
 "nbformat_minor": 5
}

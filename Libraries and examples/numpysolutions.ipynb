{
 "cells": [
  {
   "cell_type": "markdown",
   "metadata": {},
   "source": [
    "# Module: NumPy Assignments\n",
    "## Lesson: NumPy\n",
    "### Assignment 1: Array Creation and Manipulation\n",
    "\n",
    "1. Create a NumPy array of shape (5, 5) filled with random integers between 1 and 20. Replace all the elements in the third column with 1."
   ]
  },
  {
   "cell_type": "code",
   "execution_count": 6,
   "metadata": {},
   "outputs": [
    {
     "name": "stdout",
     "output_type": "stream",
     "text": [
      "Original array:\n",
      "[[18 16 13  5 20]\n",
      " [17  3 19 16  2]\n",
      " [16 10  4  7 17]\n",
      " [12 13 17  3 14]\n",
      " [12 12 19  2 11]]\n",
      "Modified array:\n",
      "[[18 16  1  5 20]\n",
      " [17  3  1 16  2]\n",
      " [16 10  1  7 17]\n",
      " [12 13  1  3 14]\n",
      " [12 12  1  2 11]]\n"
     ]
    }
   ],
   "source": [
    "import numpy as np\n",
    "\n",
    "# Create a NumPy array of shape (5, 5) filled with random integers\n",
    "array = np.random.randint(1, 21, size=(5, 5))\n",
    "print(\"Original array:\")\n",
    "print(array)\n",
    "\n",
    "# Replace all the elements in the third column with 1\n",
    "array[:, 2] = 1\n",
    "print(\"Modified array:\")\n",
    "print(array)"
   ]
  },
  {
   "cell_type": "markdown",
   "metadata": {},
   "source": [
    "2. Create a NumPy array of shape (4, 4) with values from 1 to 16. Replace the diagonal elements with 0."
   ]
  },
  {
   "cell_type": "code",
   "execution_count": 8,
   "metadata": {},
   "outputs": [
    {
     "name": "stdout",
     "output_type": "stream",
     "text": [
      "Original array:\n",
      "[[ 1  2  3  4]\n",
      " [ 5  6  7  8]\n",
      " [ 9 10 11 12]\n",
      " [13 14 15 16]]\n",
      "Modified array:\n",
      "[[ 0  2  3  4]\n",
      " [ 5  0  7  8]\n",
      " [ 9 10  0 12]\n",
      " [13 14 15  0]]\n"
     ]
    }
   ],
   "source": [
    "# Create a NumPy array of shape (4, 4) with values from 1 to 16\n",
    "array = np.arange(1, 17).reshape((4, 4))\n",
    "print(\"Original array:\")\n",
    "print(array)\n",
    "\n",
    "# Replace the diagonal elements with 0\n",
    "np.fill_diagonal(array, 0)\n",
    "print(\"Modified array:\")\n",
    "print(array)"
   ]
  },
  {
   "cell_type": "markdown",
   "metadata": {},
   "source": [
    "### Assignment 2: Array Indexing and Slicing\n",
    "\n",
    "1. Create a NumPy array of shape (6, 6) with values from 1 to 36. Extract the sub-array consisting of the 3rd to 5th rows and 2nd to 4th columns."
   ]
  },
  {
   "cell_type": "code",
   "execution_count": 9,
   "metadata": {},
   "outputs": [
    {
     "name": "stdout",
     "output_type": "stream",
     "text": [
      "Original array:\n",
      "[[ 1  2  3  4  5  6]\n",
      " [ 7  8  9 10 11 12]\n",
      " [13 14 15 16 17 18]\n",
      " [19 20 21 22 23 24]\n",
      " [25 26 27 28 29 30]\n",
      " [31 32 33 34 35 36]]\n",
      "Sub-array:\n",
      "[[14 15 16]\n",
      " [20 21 22]\n",
      " [26 27 28]]\n"
     ]
    }
   ],
   "source": [
    "# Create a NumPy array of shape (6, 6) with values from 1 to 36\n",
    "array = np.arange(1, 37).reshape((6, 6))\n",
    "print(\"Original array:\")\n",
    "print(array)\n",
    "\n",
    "# Extract the sub-array\n",
    "sub_array = array[2:5, 1:4]\n",
    "print(\"Sub-array:\")\n",
    "print(sub_array)"
   ]
  },
  {
   "cell_type": "markdown",
   "metadata": {},
   "source": [
    "2. Create a NumPy array of shape (5, 5) with random integers. Extract the elements on the border."
   ]
  },
  {
   "cell_type": "code",
   "execution_count": 10,
   "metadata": {},
   "outputs": [
    {
     "name": "stdout",
     "output_type": "stream",
     "text": [
      "Original array:\n",
      "[[ 3  3  5  8 17]\n",
      " [ 5  6 16  5 11]\n",
      " [ 9 16  5 17 13]\n",
      " [13 18  2  2 10]\n",
      " [ 1  7 18  4  1]]\n",
      "Border elements:\n",
      "[ 3  3  5  8 17  1  7 18  4  1  5  9 13 11 13 10]\n"
     ]
    }
   ],
   "source": [
    "# Create a NumPy array of shape (5, 5) with random integers\n",
    "array = np.random.randint(1, 21, size=(5, 5))\n",
    "print(\"Original array:\")\n",
    "print(array)\n",
    "\n",
    "# Extract the elements on the border\n",
    "border_elements = np.concatenate((array[0, :], array[-1, :], array[1:-1, 0], array[1:-1, -1]))\n",
    "print(\"Border elements:\")\n",
    "print(border_elements)"
   ]
  },
  {
   "cell_type": "markdown",
   "metadata": {},
   "source": [
    "### Assignment 3: Array Operations\n",
    "\n",
    "1. Create two NumPy arrays of shape (3, 4) filled with random integers. Perform element-wise addition, subtraction, multiplication, and division."
   ]
  },
  {
   "cell_type": "code",
   "execution_count": 11,
   "metadata": {},
   "outputs": [
    {
     "name": "stdout",
     "output_type": "stream",
     "text": [
      "Array 1:\n",
      "[[9 5 8 2]\n",
      " [5 5 4 7]\n",
      " [3 8 5 1]]\n",
      "Array 2:\n",
      "[[ 3 10  3  2]\n",
      " [ 9  2  2  5]\n",
      " [ 4  6  4  3]]\n",
      "Element-wise addition:\n",
      "[[12 15 11  4]\n",
      " [14  7  6 12]\n",
      " [ 7 14  9  4]]\n",
      "Element-wise subtraction:\n",
      "[[ 6 -5  5  0]\n",
      " [-4  3  2  2]\n",
      " [-1  2  1 -2]]\n",
      "Element-wise multiplication:\n",
      "[[27 50 24  4]\n",
      " [45 10  8 35]\n",
      " [12 48 20  3]]\n",
      "Element-wise division:\n",
      "[[3.         0.5        2.66666667 1.        ]\n",
      " [0.55555556 2.5        2.         1.4       ]\n",
      " [0.75       1.33333333 1.25       0.33333333]]\n"
     ]
    }
   ],
   "source": [
    "# Create two NumPy arrays of shape (3, 4) filled with random integers\n",
    "array1 = np.random.randint(1, 11, size=(3, 4))\n",
    "array2 = np.random.randint(1, 11, size=(3, 4))\n",
    "print(\"Array 1:\")\n",
    "print(array1)\n",
    "print(\"Array 2:\")\n",
    "print(array2)\n",
    "\n",
    "# Perform element-wise operations\n",
    "addition = array1 + array2\n",
    "subtraction = array1 - array2\n",
    "multiplication = array1 * array2\n",
    "division = array1 / array2\n",
    "\n",
    "print(\"Element-wise addition:\")\n",
    "print(addition)\n",
    "print(\"Element-wise subtraction:\")\n",
    "print(subtraction)\n",
    "print(\"Element-wise multiplication:\")\n",
    "print(multiplication)\n",
    "print(\"Element-wise division:\")\n",
    "print(division)"
   ]
  },
  {
   "cell_type": "markdown",
   "metadata": {},
   "source": [
    "2. Create a NumPy array of shape (4, 4) with values from 1 to 16. Compute the row-wise and column-wise sum."
   ]
  },
  {
   "cell_type": "code",
   "execution_count": 12,
   "metadata": {},
   "outputs": [
    {
     "name": "stdout",
     "output_type": "stream",
     "text": [
      "Original array:\n",
      "[[ 1  2  3  4]\n",
      " [ 5  6  7  8]\n",
      " [ 9 10 11 12]\n",
      " [13 14 15 16]]\n",
      "Row-wise sum:\n",
      "[10 26 42 58]\n",
      "Column-wise sum:\n",
      "[28 32 36 40]\n"
     ]
    }
   ],
   "source": [
    "# Create a NumPy array of shape (4, 4) with values from 1 to 16\n",
    "array = np.arange(1, 17).reshape((4, 4))\n",
    "print(\"Original array:\")\n",
    "print(array)\n",
    "\n",
    "# Compute the row-wise and column-wise sum\n",
    "row_sum = np.sum(array, axis=1)\n",
    "column_sum = np.sum(array, axis=0)\n",
    "\n",
    "print(\"Row-wise sum:\")\n",
    "print(row_sum)\n",
    "print(\"Column-wise sum:\")\n",
    "print(column_sum)"
   ]
  },
  {
   "cell_type": "markdown",
   "metadata": {},
   "source": [
    "### Assignment 4: Statistical Operations\n",
    "\n",
    "1. Create a NumPy array of shape (5, 5) filled with random integers. Compute the mean, median, standard deviation, and variance of the array."
   ]
  },
  {
   "cell_type": "code",
   "execution_count": 13,
   "metadata": {},
   "outputs": [
    {
     "name": "stdout",
     "output_type": "stream",
     "text": [
      "Original array:\n",
      "[[14 10  4  4 19]\n",
      " [18 19  8  5 15]\n",
      " [14  7 14 20 14]\n",
      " [20 15 15 14  6]\n",
      " [ 3 17  4  9 12]]\n",
      "Mean: 12.0\n",
      "Median: 14.0\n",
      "Standard Deviation: 5.462600113499065\n",
      "Variance: 29.84\n"
     ]
    }
   ],
   "source": [
    "# Create a NumPy array of shape (5, 5) filled with random integers\n",
    "array = np.random.randint(1, 21, size=(5, 5))\n",
    "print(\"Original array:\")\n",
    "print(array)\n",
    "\n",
    "# Compute the statistical values\n",
    "mean = np.mean(array)\n",
    "median = np.median(array)\n",
    "std_dev = np.std(array)\n",
    "variance = np.var(array)\n",
    "\n",
    "print(\"Mean:\", mean)\n",
    "print(\"Median:\", median)\n",
    "print(\"Standard Deviation:\", std_dev)\n",
    "print(\"Variance:\", variance)"
   ]
  },
  {
   "cell_type": "markdown",
   "metadata": {},
   "source": [
    "2. Create a NumPy array of shape (3, 3) with values from 1 to 9. Normalize the array (i.e., scale the values to have a mean of 0 and a standard deviation of 1)."
   ]
  },
  {
   "cell_type": "code",
   "execution_count": 14,
   "metadata": {},
   "outputs": [
    {
     "name": "stdout",
     "output_type": "stream",
     "text": [
      "Original array:\n",
      "[[1 2 3]\n",
      " [4 5 6]\n",
      " [7 8 9]]\n",
      "Normalized array:\n",
      "[[-1.54919334 -1.161895   -0.77459667]\n",
      " [-0.38729833  0.          0.38729833]\n",
      " [ 0.77459667  1.161895    1.54919334]]\n"
     ]
    }
   ],
   "source": [
    "# Create a NumPy array of shape (3, 3) with values from 1 to 9\n",
    "array = np.arange(1, 10).reshape((3, 3))\n",
    "print(\"Original array:\")\n",
    "print(array)\n",
    "\n",
    "# Normalize the array\n",
    "mean = np.mean(array)\n",
    "std_dev = np.std(array)\n",
    "normalized_array = (array - mean) / std_dev\n",
    "\n",
    "print(\"Normalized array:\")\n",
    "print(normalized_array)"
   ]
  },
  {
   "cell_type": "markdown",
   "metadata": {},
   "source": [
    "### Assignment 5: Broadcasting\n",
    "\n",
    "1. Create a NumPy array of shape (3, 3) filled with random integers. Add a 1D array of shape (3,) to each row of the 2D array using broadcasting."
   ]
  },
  {
   "cell_type": "code",
   "execution_count": 15,
   "metadata": {},
   "outputs": [
    {
     "name": "stdout",
     "output_type": "stream",
     "text": [
      "Original array:\n",
      "[[ 7  3 10]\n",
      " [ 7  3  4]\n",
      " [ 7 10  3]]\n",
      "1D array:\n",
      "[6 9 9]\n",
      "Resulting array:\n",
      "[[13 12 19]\n",
      " [13 12 13]\n",
      " [13 19 12]]\n"
     ]
    }
   ],
   "source": [
    "# Create a NumPy array of shape (3, 3) filled with random integers\n",
    "array = np.random.randint(1, 11, size=(3, 3))\n",
    "row_array = np.random.randint(1, 11, size=(3,))\n",
    "print(\"Original array:\")\n",
    "print(array)\n",
    "print(\"1D array:\")\n",
    "print(row_array)\n",
    "\n",
    "# Add the 1D array to each row of the 2D array using broadcasting\n",
    "result = array + row_array\n",
    "print(\"Resulting array:\")\n",
    "print(result)"
   ]
  },
  {
   "cell_type": "markdown",
   "metadata": {},
   "source": [
    "2. Create a NumPy array of shape (4, 4) filled with random integers. Subtract a 1D array of shape (4,) from each column of the 2D array using broadcasting."
   ]
  },
  {
   "cell_type": "code",
   "execution_count": 16,
   "metadata": {},
   "outputs": [
    {
     "name": "stdout",
     "output_type": "stream",
     "text": [
      "Original array:\n",
      "[[ 1  1  6 10]\n",
      " [10  1 10  2]\n",
      " [ 9  6 10  8]\n",
      " [ 4 10  6  3]]\n",
      "1D array:\n",
      "[1 2 9 7]\n",
      "Resulting array:\n",
      "[[ 0  0  5  9]\n",
      " [ 8 -1  8  0]\n",
      " [ 0 -3  1 -1]\n",
      " [-3  3 -1 -4]]\n"
     ]
    }
   ],
   "source": [
    "# Create a NumPy array of shape (4, 4) filled with random integers\n",
    "array = np.random.randint(1, 11, size=(4, 4))\n",
    "column_array = np.random.randint(1, 11, size=(4,))\n",
    "print(\"Original array:\")\n",
    "print(array)\n",
    "print(\"1D array:\")\n",
    "print(column_array)\n",
    "\n",
    "# Subtract the 1D array from each column of the 2D array using broadcasting\n",
    "result = array - column_array[:, np.newaxis]\n",
    "print(\"Resulting array:\")\n",
    "print(result)"
   ]
  },
  {
   "cell_type": "markdown",
   "metadata": {},
   "source": [
    "### Assignment 6: Linear Algebra\n",
    "\n",
    "1. Create a NumPy array of shape (3, 3) representing a matrix. Compute its determinant, inverse, and eigenvalues."
   ]
  },
  {
   "cell_type": "code",
   "execution_count": 17,
   "metadata": {},
   "outputs": [
    {
     "name": "stdout",
     "output_type": "stream",
     "text": [
      "Original matrix:\n",
      "[[ 4  3  1]\n",
      " [ 9 10  7]\n",
      " [ 8  9  4]]\n",
      "Determinant: -31.0\n",
      "Inverse:\n",
      "[[ 0.74193548  0.09677419 -0.35483871]\n",
      " [-0.64516129 -0.25806452  0.61290323]\n",
      " [-0.03225806  0.38709677 -0.41935484]]\n",
      "Eigenvalues: [18.01550107  1.3040423  -1.31954337]\n"
     ]
    }
   ],
   "source": [
    "# Create a NumPy array of shape (3, 3) representing a matrix\n",
    "matrix = np.random.randint(1, 11, size=(3, 3))\n",
    "print(\"Original matrix:\")\n",
    "print(matrix)\n",
    "\n",
    "# Compute the determinant\n",
    "determinant = np.linalg.det(matrix)\n",
    "print(\"Determinant:\", determinant)\n",
    "\n",
    "# Compute the inverse\n",
    "inverse = np.linalg.inv(matrix)\n",
    "print(\"Inverse:\")\n",
    "print(inverse)\n",
    "\n",
    "# Compute the eigenvalues\n",
    "eigenvalues = np.linalg.eigvals(matrix)\n",
    "print(\"Eigenvalues:\", eigenvalues)"
   ]
  },
  {
   "cell_type": "markdown",
   "metadata": {},
   "source": [
    "2. Create two NumPy arrays of shape (2, 3) and (3, 2). Perform matrix multiplication on these arrays."
   ]
  },
  {
   "cell_type": "code",
   "execution_count": 18,
   "metadata": {},
   "outputs": [
    {
     "name": "stdout",
     "output_type": "stream",
     "text": [
      "Array 1:\n",
      "[[8 9 3]\n",
      " [2 2 1]]\n",
      "Array 2:\n",
      "[[ 1  8]\n",
      " [ 8  2]\n",
      " [ 3 10]]\n",
      "Matrix multiplication result:\n",
      "[[ 89 112]\n",
      " [ 21  30]]\n"
     ]
    }
   ],
   "source": [
    "# Create two NumPy arrays of shape (2, 3) and (3, 2)\n",
    "array1 = np.random.randint(1, 11, size=(2, 3))\n",
    "array2 = np.random.randint(1, 11, size=(3, 2))\n",
    "print(\"Array 1:\")\n",
    "print(array1)\n",
    "print(\"Array 2:\")\n",
    "print(array2)\n",
    "\n",
    "# Perform matrix multiplication\n",
    "result = np.dot(array1, array2)\n",
    "print(\"Matrix multiplication result:\")\n",
    "print(result)"
   ]
  },
  {
   "cell_type": "markdown",
   "metadata": {},
   "source": [
    "### Assignment 7: Advanced Array Manipulation\n",
    "\n",
    "1. Create a NumPy array of shape (3, 3) with values from 1 to 9. Reshape the array to shape (1, 9) and then to shape (9, 1)."
   ]
  },
  {
   "cell_type": "code",
   "execution_count": 19,
   "metadata": {},
   "outputs": [
    {
     "name": "stdout",
     "output_type": "stream",
     "text": [
      "Original array:\n",
      "[[1 2 3]\n",
      " [4 5 6]\n",
      " [7 8 9]]\n",
      "Reshaped array (1, 9):\n",
      "[[1 2 3 4 5 6 7 8 9]]\n",
      "Reshaped array (9, 1):\n",
      "[[1]\n",
      " [2]\n",
      " [3]\n",
      " [4]\n",
      " [5]\n",
      " [6]\n",
      " [7]\n",
      " [8]\n",
      " [9]]\n"
     ]
    }
   ],
   "source": [
    "# Create a NumPy array of shape (3, 3) with values from 1 to 9\n",
    "array = np.arange(1, 10).reshape((3, 3))\n",
    "print(\"Original array:\")\n",
    "print(array)\n",
    "\n",
    "# Reshape the array to shape (1, 9)\n",
    "reshaped_array_1 = array.reshape((1, 9))\n",
    "print(\"Reshaped array (1, 9):\")\n",
    "print(reshaped_array_1)\n",
    "\n",
    "# Reshape the array to shape (9, 1)\n",
    "reshaped_array_2 = reshaped_array_1.reshape((9, 1))\n",
    "print(\"Reshaped array (9, 1):\")\n",
    "print(reshaped_array_2)"
   ]
  },
  {
   "cell_type": "markdown",
   "metadata": {},
   "source": [
    "2. Create a NumPy array of shape (5, 5) filled with random integers. Flatten the array and then reshape it back to (5, 5)."
   ]
  },
  {
   "cell_type": "code",
   "execution_count": 20,
   "metadata": {},
   "outputs": [
    {
     "name": "stdout",
     "output_type": "stream",
     "text": [
      "Original array:\n",
      "[[ 4 18  6 18  6]\n",
      " [ 8 11  1  3 19]\n",
      " [11 17 19 10  6]\n",
      " [ 4  2 11 17 10]\n",
      " [ 7 17 13 19  9]]\n",
      "Flattened array:\n",
      "[ 4 18  6 18  6  8 11  1  3 19 11 17 19 10  6  4  2 11 17 10  7 17 13 19\n",
      "  9]\n",
      "Reshaped array:\n",
      "[[ 4 18  6 18  6]\n",
      " [ 8 11  1  3 19]\n",
      " [11 17 19 10  6]\n",
      " [ 4  2 11 17 10]\n",
      " [ 7 17 13 19  9]]\n"
     ]
    }
   ],
   "source": [
    "# Create a NumPy array of shape (5, 5) filled with random integers\n",
    "array = np.random.randint(1, 21, size=(5, 5))\n",
    "print(\"Original array:\")\n",
    "print(array)\n",
    "\n",
    "# Flatten the array\n",
    "flattened_array = array.flatten()\n",
    "print(\"Flattened array:\")\n",
    "print(flattened_array)\n",
    "\n",
    "# Reshape the array back to (5, 5)\n",
    "reshaped_array = flattened_array.reshape((5, 5))\n",
    "print(\"Reshaped array:\")\n",
    "print(reshaped_array)"
   ]
  },
  {
   "cell_type": "markdown",
   "metadata": {},
   "source": [
    "### Assignment 8: Fancy Indexing and Boolean Indexing\n",
    "\n",
    "1. Create a NumPy array of shape (5, 5) filled with random integers. Use fancy indexing to extract the elements at the corners of the array."
   ]
  },
  {
   "cell_type": "code",
   "execution_count": 21,
   "metadata": {},
   "outputs": [
    {
     "name": "stdout",
     "output_type": "stream",
     "text": [
      "Original array:\n",
      "[[20  4  2  3  4]\n",
      " [16  8  3 15  4]\n",
      " [11 17 14  3 18]\n",
      " [17 13 20  6 15]\n",
      " [ 3  5 12 19  5]]\n",
      "Corner elements:\n",
      "[20  4  3  5]\n"
     ]
    }
   ],
   "source": [
    "# Create a NumPy array of shape (5, 5) filled with random integers\n",
    "array = np.random.randint(1, 21, size=(5, 5))\n",
    "print(\"Original array:\")\n",
    "print(array)\n",
    "\n",
    "# Use fancy indexing to extract the elements at the corners of the array\n",
    "corners = array[[0, 0, -1, -1], [0, -1, 0, -1]]\n",
    "print(\"Corner elements:\")\n",
    "print(corners)"
   ]
  },
  {
   "cell_type": "markdown",
   "metadata": {},
   "source": [
    "2. Create a NumPy array of shape (4, 4) filled with random integers. Use boolean indexing to set all elements greater than 10 to 10."
   ]
  },
  {
   "cell_type": "code",
   "execution_count": 22,
   "metadata": {},
   "outputs": [
    {
     "name": "stdout",
     "output_type": "stream",
     "text": [
      "Original array:\n",
      "[[ 6 12 14  2]\n",
      " [20  9 13  5]\n",
      " [ 6 15 12 12]\n",
      " [10 16  8 15]]\n",
      "Modified array:\n",
      "[[ 6 10 10  2]\n",
      " [10  9 10  5]\n",
      " [ 6 10 10 10]\n",
      " [10 10  8 10]]\n"
     ]
    }
   ],
   "source": [
    "# Create a NumPy array of shape (4, 4) filled with random integers\n",
    "array = np.random.randint(1, 21, size=(4, 4))\n",
    "print(\"Original array:\")\n",
    "print(array)\n",
    "\n",
    "# Use boolean indexing to set all elements greater than 10 to 10\n",
    "array[array > 10] = 10\n",
    "print(\"Modified array:\")\n",
    "print(array)"
   ]
  },
  {
   "cell_type": "markdown",
   "metadata": {},
   "source": [
    "### Assignment 9: Structured Arrays\n",
    "\n",
    "1. Create a structured array with fields 'name' (string), 'age' (integer), and 'weight' (float). Add some data and sort the array by age."
   ]
  },
  {
   "cell_type": "code",
   "execution_count": 23,
   "metadata": {},
   "outputs": [
    {
     "name": "stdout",
     "output_type": "stream",
     "text": [
      "Original array:\n",
      "[('Alice', 25, 55.5) ('Bob', 30, 85.3) ('Charlie', 20, 65.2)]\n",
      "Sorted array by age:\n",
      "[('Charlie', 20, 65.2) ('Alice', 25, 55.5) ('Bob', 30, 85.3)]\n"
     ]
    }
   ],
   "source": [
    "# Create a structured array with fields 'name', 'age', and 'weight'\n",
    "data_type = [('name', 'U10'), ('age', 'i4'), ('weight', 'f4')]\n",
    "data = np.array([('Alice', 25, 55.5), ('Bob', 30, 85.3), ('Charlie', 20, 65.2)], dtype=data_type)\n",
    "print(\"Original array:\")\n",
    "print(data)\n",
    "\n",
    "# Sort the array by age\n",
    "sorted_data = np.sort(data, order='age')\n",
    "print(\"Sorted array by age:\")\n",
    "print(sorted_data)"
   ]
  },
  {
   "cell_type": "markdown",
   "metadata": {},
   "source": [
    "2. Create a structured array with fields 'x' and 'y' (both integers). Add some data and compute the Euclidean distance between each pair of points."
   ]
  },
  {
   "cell_type": "code",
   "execution_count": 24,
   "metadata": {},
   "outputs": [
    {
     "name": "stdout",
     "output_type": "stream",
     "text": [
      "Original array:\n",
      "[(1, 2) (3, 4) (5, 6)]\n",
      "Euclidean distances:\n",
      "[[0.         2.82842712 5.65685425]\n",
      " [2.82842712 0.         2.82842712]\n",
      " [5.65685425 2.82842712 0.        ]]\n"
     ]
    }
   ],
   "source": [
    "# Create a structured array with fields 'x' and 'y'\n",
    "data_type = [('x', 'i4'), ('y', 'i4')]\n",
    "data = np.array([(1, 2), (3, 4), (5, 6)], dtype=data_type)\n",
    "print(\"Original array:\")\n",
    "print(data)\n",
    "\n",
    "# Compute the Euclidean distance between each pair of points\n",
    "distances = np.sqrt((data['x'][:, np.newaxis] - data['x'])**2 + (data['y'][:, np.newaxis] - data['y'])**2)\n",
    "print(\"Euclidean distances:\")\n",
    "print(distances)"
   ]
  },
  {
   "cell_type": "markdown",
   "metadata": {},
   "source": [
    "### Assignment 10: Masked Arrays\n",
    "\n",
    "1. Create a masked array of shape (4, 4) with random integers and mask the elements greater than 10. Compute the sum of the unmasked elements."
   ]
  },
  {
   "cell_type": "code",
   "execution_count": 25,
   "metadata": {},
   "outputs": [
    {
     "name": "stdout",
     "output_type": "stream",
     "text": [
      "Original array:\n",
      "[[ 4 15 15 11]\n",
      " [15 18  6  3]\n",
      " [ 5 14 19  8]\n",
      " [ 7  7 18 10]]\n",
      "Masked array:\n",
      "[[4 -- -- --]\n",
      " [-- -- 6 3]\n",
      " [5 -- -- 8]\n",
      " [7 7 -- 10]]\n",
      "Sum of unmasked elements: 50\n"
     ]
    }
   ],
   "source": [
    "import numpy.ma as ma\n",
    "\n",
    "# Create a masked array of shape (4, 4) with random integers\n",
    "array = np.random.randint(1, 21, size=(4, 4))\n",
    "masked_array = ma.masked_greater(array, 10)\n",
    "print(\"Original array:\")\n",
    "print(array)\n",
    "print(\"Masked array:\")\n",
    "print(masked_array)\n",
    "\n",
    "# Compute the sum of the unmasked elements\n",
    "sum_unmasked = masked_array.sum()\n",
    "print(\"Sum of unmasked elements:\", sum_unmasked)"
   ]
  },
  {
   "cell_type": "markdown",
   "metadata": {},
   "source": [
    "2. Create a masked array of shape (3, 3) with random integers and mask the diagonal elements. Replace the masked elements with the mean of the unmasked elements."
   ]
  },
  {
   "cell_type": "code",
   "execution_count": 26,
   "metadata": {},
   "outputs": [
    {
     "name": "stdout",
     "output_type": "stream",
     "text": [
      "Original array:\n",
      "[[17 14  2]\n",
      " [ 2  3  3]\n",
      " [12  9 11]]\n",
      "Masked array:\n",
      "[[-- 14 2]\n",
      " [2 -- 3]\n",
      " [12 9 --]]\n",
      "Modified masked array:\n",
      "[[ 7 14  2]\n",
      " [ 2  7  3]\n",
      " [12  9  7]]\n"
     ]
    }
   ],
   "source": [
    "# Create a masked array of shape (3, 3) with random integers\n",
    "array = np.random.randint(1, 21, size=(3, 3))\n",
    "masked_array = ma.masked_array(array, mask=np.eye(3, dtype=bool))\n",
    "print(\"Original array:\")\n",
    "print(array)\n",
    "print(\"Masked array:\")\n",
    "print(masked_array)\n",
    "\n",
    "# Replace the masked elements with the mean of the unmasked elements\n",
    "mean_unmasked = masked_array.mean()\n",
    "masked_array = masked_array.filled(mean_unmasked)\n",
    "print(\"Modified masked array:\")\n",
    "print(masked_array)"
   ]
  }
 ],
 "metadata": {
  "kernelspec": {
   "display_name": "Python 3",
   "language": "python",
   "name": "python3"
  },
  "language_info": {
   "codemirror_mode": {
    "name": "ipython",
    "version": 3
   },
   "file_extension": ".py",
   "mimetype": "text/x-python",
   "name": "python",
   "nbconvert_exporter": "python",
   "pygments_lexer": "ipython3",
   "version": "3.12.0"
  }
 },
 "nbformat": 4,
 "nbformat_minor": 5
}
